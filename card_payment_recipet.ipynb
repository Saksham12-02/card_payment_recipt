{
 "cells": [
  {
   "cell_type": "code",
   "execution_count": null,
   "id": "66a2201e-5996-43d7-b839-1fc1b1080dfa",
   "metadata": {},
   "outputs": [
    {
     "name": "stdout",
     "output_type": "stream",
     "text": [
      "Welcome to the Card Payment System\n"
     ]
    },
    {
     "name": "stdin",
     "output_type": "stream",
     "text": [
      "Enter Card Number:  875694556782\n",
      "Enter Card Holder Name:  saksham kajla\n"
     ]
    }
   ],
   "source": [
    "import datetime\n",
    "\n",
    "class Payment:\n",
    "    def __init__(self, card_number, card_holder, expiration_date, amount):\n",
    "        self.card_number = card_number\n",
    "        self.card_holder = card_holder\n",
    "        self.expiration_date = expiration_date\n",
    "        self.amount = amount\n",
    "        self.transaction_id = self.generate_transaction_id()\n",
    "\n",
    "    def generate_transaction_id(self):\n",
    "        return f\"TXN{int(datetime.datetime.now().timestamp())}\"\n",
    "\n",
    "    def process_payment(self):\n",
    "        # Simulate payment processing\n",
    "        print(\"Processing payment...\")\n",
    "        # Here you would integrate with a payment gateway\n",
    "        return True  # Simulate successful payment\n",
    "\n",
    "    def generate_receipt(self):\n",
    "        receipt = f\"\"\"\n",
    "        ------------------------------\n",
    "                PAYMENT RECEIPT\n",
    "        ------------------------------\n",
    "        Transaction ID: {self.transaction_id}\n",
    "        Card Holder: {self.card_holder}\n",
    "        Amount: ₹{self.amount:.2f}\n",
    "        Date: {datetime.datetime.now().strftime('%Y-%m-%d %H:%M:%S')}\n",
    "        ------------------------------\n",
    "        Thank you for your payment!\n",
    "        \"\"\"\n",
    "        return receipt\n",
    "\n",
    "\n",
    "def main():\n",
    "    print(\"Welcome to the Card Payment System\")\n",
    "    \n",
    "    # Collect payment information\n",
    "    card_number = input(\"Enter Card Number: \")\n",
    "    card_holder = input(\"Enter Card Holder Name: \")\n",
    "    expiration_date = input(\"Enter Expiration Date (MM/YY): \")\n",
    "    amount = float(input(\"Enter Amount: ₹\"))\n",
    "\n",
    "    # Create a Payment object\n",
    "    payment = Payment(card_number, card_holder, expiration_date, amount)\n",
    "\n",
    "    # Process the payment\n",
    "    if payment.process_payment():\n",
    "        # Generate and print the receipt\n",
    "        receipt = payment.generate_receipt()\n",
    "        print(receipt)\n",
    "    else:\n",
    "        print(\"Payment failed. Please try again.\")\n",
    "\n",
    "if __name__ == \"__main__\":\n",
    "    main()\n"
   ]
  },
  {
   "cell_type": "code",
   "execution_count": null,
   "id": "99f3bbe8-9567-4e18-bf14-62dfa493bf70",
   "metadata": {},
   "outputs": [],
   "source": [
    "\n"
   ]
  }
 ],
 "metadata": {
  "kernelspec": {
   "display_name": "Python [conda env:base] *",
   "language": "python",
   "name": "conda-base-py"
  },
  "language_info": {
   "codemirror_mode": {
    "name": "ipython",
    "version": 3
   },
   "file_extension": ".py",
   "mimetype": "text/x-python",
   "name": "python",
   "nbconvert_exporter": "python",
   "pygments_lexer": "ipython3",
   "version": "3.11.7"
  }
 },
 "nbformat": 4,
 "nbformat_minor": 5
}
